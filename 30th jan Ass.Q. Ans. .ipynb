{
 "cells": [
  {
   "cell_type": "markdown",
   "id": "704a65b5-01ec-4131-a195-9b74a4d9957b",
   "metadata": {},
   "source": [
    "### Q. 1. Write a program to accept percentage from the user and display the grade according to the following \n"
   ]
  },
  {
   "cell_type": "raw",
   "id": "68628242-7358-4526-b819-216f3335a1ef",
   "metadata": {},
   "source": [
    "Marks                Grade\n",
    " \n",
    ">90                   A\n",
    "                        \n",
    ">80 and <=90          B\n",
    " \n",
    ">=60 and <=80         C\n",
    " \n",
    "below 60              D\n",
    "\n"
   ]
  },
  {
   "cell_type": "code",
   "execution_count": 5,
   "id": "47968c9a-b0b7-419c-bb98-ae3f60051a90",
   "metadata": {},
   "outputs": [
    {
     "name": "stdin",
     "output_type": "stream",
     "text": [
      "Enter your marsks:  89\n"
     ]
    },
    {
     "name": "stdout",
     "output_type": "stream",
     "text": [
      " Grade: B \n"
     ]
    }
   ],
   "source": [
    "# Ans.:-\n",
    "\n",
    "marks = int(input(\"Enter your marsks: \"))\n",
    "\n",
    "if marks > 90 :\n",
    "    print(\" Grade: A \")\n",
    "elif marks > 80 and marks <= 90 :\n",
    "    print(\" Grade: B \")\n",
    "elif marks >= 60 and marks <= 80 :\n",
    "    print(\" Grade: C \")\n",
    "else :\n",
    "    print(\" Grade: D \")"
   ]
  },
  {
   "cell_type": "markdown",
   "id": "2feb1c7c-83bc-486c-961e-625dcedfc49a",
   "metadata": {},
   "source": [
    "### Q. Write a program to accept the cost price of a bike and display the road tax to be paid according to the following criteria: "
   ]
  },
  {
   "cell_type": "raw",
   "id": "8be235e2-0e32-47eb-826c-1451ae85d7ca",
   "metadata": {},
   "source": [
    "Tax                Cost Price(in Rs.)\n",
    "\n",
    "15%                  >100000 \n",
    "\n",
    "10%                  50000 and <= 100000\n",
    "\n",
    "5%                   <= 50000 \n"
   ]
  },
  {
   "cell_type": "code",
   "execution_count": 4,
   "id": "d63412bc-9379-489f-bf63-294104d29b0b",
   "metadata": {},
   "outputs": [
    {
     "name": "stdin",
     "output_type": "stream",
     "text": [
      "Enter your cost:  400000\n"
     ]
    },
    {
     "name": "stdout",
     "output_type": "stream",
     "text": [
      "Road tax:- 15% \n"
     ]
    }
   ],
   "source": [
    "# Ans.:-\n",
    "cost_price = int(input(\"Enter your cost: \"))\n",
    "\n",
    "if cost_price > 100000 :\n",
    "    print(\"Road tax:- 15% \")\n",
    "elif cost_price > 50000 and cost_price <= 100000 :\n",
    "    print(\"Road tax:- 10% \")\n",
    "else :\n",
    "    print(\"Road tax:- 5% \")\n"
   ]
  },
  {
   "cell_type": "markdown",
   "id": "443da740-8fcd-4d95-b670-355d119a0815",
   "metadata": {},
   "source": [
    "### Q. 3. Accept any city from the user and display monuments of that city."
   ]
  },
  {
   "cell_type": "raw",
   "id": "f6e93555-f002-4e9a-a2c1-bf2859e4a341",
   "metadata": {},
   "source": [
    "City               Monument\n",
    "\n",
    "Delhi              Red Fort  \n",
    "\n",
    "Agra               Taj Mahal\n",
    "\n",
    "Jaipur             Jal Mahal\n",
    " "
   ]
  },
  {
   "cell_type": "code",
   "execution_count": 7,
   "id": "b26115a7-dd4a-45a1-9149-cd81fdf80788",
   "metadata": {},
   "outputs": [
    {
     "name": "stdin",
     "output_type": "stream",
     "text": [
      "Enter a city name:  agra\n"
     ]
    },
    {
     "name": "stdout",
     "output_type": "stream",
     "text": [
      "Monuments in Agra:\n",
      "- Taj Mahal\n"
     ]
    }
   ],
   "source": [
    "# create a dictionary of cities and their monuments\n",
    "monuments = {\"delhi\": [\"Red Fort\"], \"agra\": [\"Taj Mahal\"], \"jaipur\": [\"Jal Mahal\"]}\n",
    "\n",
    "# prompt the user to enter a city\n",
    "city = input(\"Enter a city name: \").lower()\n",
    "\n",
    "# check if the city is in the dictionary and display its monuments\n",
    "if city in monuments:\n",
    "    print(\"Monuments in\", city.title() + \":\")\n",
    "    for monument in monuments[city]:\n",
    "        print(\"- \" + monument)\n",
    "else:\n",
    "    print(\"Sorry, we don't have information about monuments in\", city.title() + \".\")\n"
   ]
  },
  {
   "cell_type": "markdown",
   "id": "2699680c-4a33-483b-812b-95ee0320159c",
   "metadata": {},
   "source": [
    "### Q. 4. Check how many times a given number can be divided by 3 before it is less than or equal to 10. \n"
   ]
  },
  {
   "cell_type": "code",
   "execution_count": 12,
   "id": "3ecb841a-6151-4a9f-b2e7-dbc814038e26",
   "metadata": {},
   "outputs": [
    {
     "name": "stdin",
     "output_type": "stream",
     "text": [
      "Enter your Number:  11\n"
     ]
    },
    {
     "name": "stdout",
     "output_type": "stream",
     "text": [
      "The Number can be devided by 3 1 times before it is less than or equal to 10.\n"
     ]
    }
   ],
   "source": [
    "### Ans.:-\n",
    "\n",
    "num = int(input(\"Enter your Number: \"))\n",
    "\n",
    "count = 0\n",
    "while num > 10:\n",
    "    \n",
    "    num /= 3\n",
    "    \n",
    "    count += 1\n",
    "    \n",
    "print(\"The Number can be devided by 3\", count, \"times before it is less than or equal to 10.\")    \n",
    "    "
   ]
  },
  {
   "cell_type": "markdown",
   "id": "7bfcc026-b649-4e88-a01c-7bb32a392cf8",
   "metadata": {},
   "source": [
    "### Q. 5. Why and When to Use while Loop in Python give a detailed description with example."
   ]
  },
  {
   "cell_type": "markdown",
   "id": "a3004e75-ed02-4114-b9da-fe103754f192",
   "metadata": {},
   "source": [
    "### Ans:-\n",
    "### “A while loop in python runs a bunch of code or statements again and again until the given condition is true when the condition becomes false, the loop terminates its repetition.”\n",
    "\n",
    "### where the number of iterations are not defined, or we do not have any idea how many iterations would take place with the help of an example. Suppose that we have created an application for an ATM from where a customer can only withdraw money up to 5000 rupees. Now our condition in the while loop would be to iterate unless the input is between 1 to 5000. So, the condition will be true unless the user inputs a number between 1 to 5000, so the loop will iterate depending upon the time until the user submits the wrong input.\n"
   ]
  },
  {
   "cell_type": "markdown",
   "id": "73b69d6d-a84e-4680-8937-4fc25ac22e6b",
   "metadata": {},
   "source": [
    "### Q. 6. Use nested while loop to print 3 different pattern. \n"
   ]
  },
  {
   "cell_type": "code",
   "execution_count": 1,
   "id": "a7975a66-6fc6-4f3e-b139-e2e060223892",
   "metadata": {},
   "outputs": [
    {
     "name": "stdout",
     "output_type": "stream",
     "text": [
      "1\n",
      "2\n",
      "3\n",
      "4\n",
      "1\n",
      "2\n",
      "3\n",
      "4\n",
      "1\n",
      "2\n",
      "3\n",
      "4\n",
      "1\n",
      "2\n",
      "3\n",
      "4\n"
     ]
    }
   ],
   "source": [
    "# Ans.:-\n",
    "#nested while loop\n",
    "\n",
    "\n",
    "i = 1\n",
    "while i < 5:\n",
    "    j = 1\n",
    "    while j < 5:\n",
    "        print(j)\n",
    "        j = j + 1\n",
    "    i = i + 1\n",
    "                                            "
   ]
  },
  {
   "cell_type": "code",
   "execution_count": 9,
   "id": "c4f57167-e0d4-47fd-a372-d0757d6e388f",
   "metadata": {},
   "outputs": [
    {
     "name": "stdout",
     "output_type": "stream",
     "text": [
      "* \n",
      "* * \n",
      "* * * \n",
      "* * * * \n",
      "* * * * * \n"
     ]
    }
   ],
   "source": [
    "# '*' in right angle triangle shape.\n",
    "i = 1\n",
    "while i <= 5:\n",
    "    j = 1\n",
    "    while j <= i:\n",
    "        print('*', end= ' ')\n",
    "        j = j + 1\n",
    "    print()\n",
    "    i = i + 1"
   ]
  },
  {
   "cell_type": "code",
   "execution_count": 7,
   "id": "2898fd28-007f-4c64-b3d3-717727121e66",
   "metadata": {},
   "outputs": [
    {
     "name": "stdout",
     "output_type": "stream",
     "text": [
      "1 \n",
      "2 2 \n",
      "3 3 3 \n",
      "4 4 4 4 \n",
      "5 5 5 5 5 \n"
     ]
    }
   ],
   "source": [
    "i = 1\n",
    "while i <= 5:\n",
    "    j = 1\n",
    "    while j <= i:\n",
    "        print(i , end= ' ')\n",
    "        j = j + 1\n",
    "    print()\n",
    "    i = i + 1"
   ]
  },
  {
   "cell_type": "code",
   "execution_count": 6,
   "id": "f3d27e22-79b1-41ca-852c-774133b64712",
   "metadata": {},
   "outputs": [
    {
     "name": "stdout",
     "output_type": "stream",
     "text": [
      "1 \n",
      "1 2 \n",
      "1 2 3 \n",
      "1 2 3 4 \n",
      "1 2 3 4 5 \n"
     ]
    }
   ],
   "source": [
    "i = 1\n",
    "while i <= 5:\n",
    "    j = 1\n",
    "    while j <= i:\n",
    "        print(j, end= ' ')\n",
    "        j = j + 1\n",
    "    print()\n",
    "    i = i + 1"
   ]
  },
  {
   "cell_type": "code",
   "execution_count": 10,
   "id": "70455a13-80bd-48a1-8e92-cf659b459c73",
   "metadata": {},
   "outputs": [
    {
     "name": "stdout",
     "output_type": "stream",
     "text": [
      "        * \n",
      "      * * \n",
      "    * * * \n",
      "  * * * * \n",
      "* * * * * \n"
     ]
    }
   ],
   "source": [
    "#'*' in revers right angle trangle shape.\n",
    "\n",
    "i = 1 \n",
    "while i <= 5:\n",
    "    b = 1\n",
    "    while b <= 5-i:\n",
    "        print(\" \", end=\" \")\n",
    "        b = b + 1\n",
    "        \n",
    "    j = 1\n",
    "    while j <= i:\n",
    "        print(\"*\", end=\" \")\n",
    "        j = j + 1\n",
    "        \n",
    "    print()\n",
    "    i = i + 1"
   ]
  },
  {
   "cell_type": "markdown",
   "id": "2c914eae-20c3-41e3-a859-cd03c5d2d9ca",
   "metadata": {},
   "source": [
    "### Q. 7. Reverse a while loop to display numbers from 10 to 1."
   ]
  },
  {
   "cell_type": "code",
   "execution_count": 1,
   "id": "7f9795a4-3e57-43bc-adb4-a2bc16b6a8e1",
   "metadata": {},
   "outputs": [
    {
     "name": "stdout",
     "output_type": "stream",
     "text": [
      "10\n",
      "9\n",
      "8\n",
      "7\n",
      "6\n",
      "5\n",
      "4\n",
      "3\n",
      "2\n",
      "1\n"
     ]
    }
   ],
   "source": [
    "# Ans.:-\n",
    "\n",
    "i = 10\n",
    "while (i >= 1):\n",
    "    print(i)\n",
    "    i = i - 1"
   ]
  },
  {
   "cell_type": "markdown",
   "id": "83501949-d686-4706-a8c3-6bdaa97671e3",
   "metadata": {},
   "source": [
    "### Q. 8. Reverse a while loop to display numbers from 10 to 1."
   ]
  },
  {
   "cell_type": "code",
   "execution_count": 3,
   "id": "a10f850d-853c-4845-960d-e4a1e2ac551d",
   "metadata": {},
   "outputs": [
    {
     "name": "stdout",
     "output_type": "stream",
     "text": [
      "10\n",
      "9\n",
      "8\n",
      "7\n",
      "6\n",
      "5\n",
      "4\n",
      "3\n",
      "2\n",
      "1\n"
     ]
    }
   ],
   "source": [
    "# Ans.:-\n",
    "\n",
    "i = 10\n",
    "while (i >= 1):\n",
    "    print(i)\n",
    "    i = i - 1"
   ]
  },
  {
   "cell_type": "code",
   "execution_count": null,
   "id": "02e02fff-2d63-4f55-8cb3-6f7f6eac17b8",
   "metadata": {},
   "outputs": [],
   "source": []
  }
 ],
 "metadata": {
  "kernelspec": {
   "display_name": "Python 3 (ipykernel)",
   "language": "python",
   "name": "python3"
  },
  "language_info": {
   "codemirror_mode": {
    "name": "ipython",
    "version": 3
   },
   "file_extension": ".py",
   "mimetype": "text/x-python",
   "name": "python",
   "nbconvert_exporter": "python",
   "pygments_lexer": "ipython3",
   "version": "3.10.8"
  }
 },
 "nbformat": 4,
 "nbformat_minor": 5
}
