{
 "cells": [
  {
   "cell_type": "markdown",
   "id": "eefca632-7668-4aa9-902c-7864192e7066",
   "metadata": {},
   "source": [
    "# Q1. Explain with an example each when to use a for loop and a while loop."
   ]
  },
  {
   "cell_type": "code",
   "execution_count": 75,
   "id": "6d199e2c-f832-48d8-9e77-45ee09f2c00c",
   "metadata": {},
   "outputs": [
    {
     "name": "stdout",
     "output_type": "stream",
     "text": [
      "player A\n",
      "player B\n",
      "plaper C\n",
      "player D\n"
     ]
    }
   ],
   "source": [
    "#Ans.:- # A \"for\" loop iterates over a sequence.\n",
    "# loop for each string in a list.\n",
    "\n",
    "team = [\"player A\" , \"player B\" , \"plaper C\" , \"player D\" ]\n",
    "\n",
    "for i in team:\n",
    "    print(i)"
   ]
  },
  {
   "cell_type": "code",
   "execution_count": 76,
   "id": "10f5fed5-7b61-43cc-9a27-a02cd90877b3",
   "metadata": {},
   "outputs": [
    {
     "name": "stdout",
     "output_type": "stream",
     "text": [
      "1\n",
      "2\n",
      "3\n",
      "4\n",
      "5\n",
      "6\n",
      "7\n",
      "8\n",
      "9\n"
     ]
    }
   ],
   "source": [
    "#Ans:- # A \"while\" loop itrates over a sequence.\n",
    "# loop while a count is less than 10\n",
    "\n",
    "count = 1\n",
    "\n",
    "while count < 10:\n",
    "    print(count)\n",
    "    count = count + 1"
   ]
  },
  {
   "cell_type": "markdown",
   "id": "dc8951e2-1652-4674-9c08-ee4a54213192",
   "metadata": {
    "tags": []
   },
   "source": [
    "# Q2. Write a python program to print the sum and product of the first 10 natural numbers using for and while loop."
   ]
  },
  {
   "cell_type": "markdown",
   "id": "47332962-5c8d-492b-b261-b6f5b31bbcea",
   "metadata": {},
   "source": [
    "Ans. :- Sum of the first 10 natural numbers using \"for\" loop."
   ]
  },
  {
   "cell_type": "code",
   "execution_count": 77,
   "id": "6ebbcbff-7a4c-4c80-89ae-0db86ec12466",
   "metadata": {},
   "outputs": [],
   "source": [
    "l = [1,2,3,4,5,6,7,8,9,10]"
   ]
  },
  {
   "cell_type": "code",
   "execution_count": 78,
   "id": "e05b3fe7-7258-4e9e-81ff-d7c3ba4ddc68",
   "metadata": {},
   "outputs": [
    {
     "data": {
      "text/plain": [
       "55"
      ]
     },
     "execution_count": 78,
     "metadata": {},
     "output_type": "execute_result"
    }
   ],
   "source": [
    "l_sum = 0\n",
    "for i in l:\n",
    "    l_sum = l_sum + i\n",
    "l_sum"
   ]
  },
  {
   "cell_type": "markdown",
   "id": "6240b7d6-411a-466b-9b0b-df843b3de881",
   "metadata": {},
   "source": [
    "Product of the first 10 natural numbers using \"for\" loop"
   ]
  },
  {
   "cell_type": "code",
   "execution_count": 79,
   "id": "e82ea796-55bb-48ac-86cc-c63d5526d74c",
   "metadata": {},
   "outputs": [
    {
     "data": {
      "text/plain": [
       "3628800"
      ]
     },
     "execution_count": 79,
     "metadata": {},
     "output_type": "execute_result"
    }
   ],
   "source": [
    "l_pro = 1\n",
    "for i in l:\n",
    "    l_pro = l_pro * i\n",
    "l_pro"
   ]
  },
  {
   "cell_type": "markdown",
   "id": "b9632a2a-0605-4631-87f5-e4e6556607e5",
   "metadata": {},
   "source": [
    "Sum of the first 10 natural number using \"while\" loop."
   ]
  },
  {
   "cell_type": "code",
   "execution_count": 81,
   "id": "def968ca-f60b-41c7-8f45-b4f37c82a73f",
   "metadata": {},
   "outputs": [
    {
     "name": "stdin",
     "output_type": "stream",
     "text": [
      "inter you limit 10\n"
     ]
    },
    {
     "data": {
      "text/plain": [
       "55"
      ]
     },
     "execution_count": 81,
     "metadata": {},
     "output_type": "execute_result"
    }
   ],
   "source": [
    "n = int(input(\"inter you limit\"))\n",
    "starting_p = 0\n",
    "counter = 1\n",
    "\n",
    "while counter <= n:\n",
    "    starting_p = starting_p + counter\n",
    "    counter = counter + 1\n",
    "    \n",
    "starting_p"
   ]
  },
  {
   "cell_type": "markdown",
   "id": "96826ffe-dd26-4eae-9a42-e327c6b8fd85",
   "metadata": {},
   "source": [
    "Product of the first 10 natural numbers using \"while\" loop"
   ]
  },
  {
   "cell_type": "code",
   "execution_count": 82,
   "id": "ed1e98fd-9b09-4a1a-b448-1f40b5dd3e84",
   "metadata": {},
   "outputs": [
    {
     "name": "stdin",
     "output_type": "stream",
     "text": [
      "enter your number 10\n"
     ]
    },
    {
     "data": {
      "text/plain": [
       "3628800"
      ]
     },
     "execution_count": 82,
     "metadata": {},
     "output_type": "execute_result"
    }
   ],
   "source": [
    "number = int(input(\"enter your number\"))\n",
    "factorial = 1\n",
    "while number > 0 :\n",
    "    \n",
    "    factorial = factorial * number\n",
    "    number = number - 1\n",
    "factorial"
   ]
  },
  {
   "cell_type": "markdown",
   "id": "2415ebda-2d81-4a25-8d08-3bcdf4596b13",
   "metadata": {},
   "source": [
    "# Q3. Create a python program to compute the electricity bill for a household. The per-unit charges in rupees are as follows: For the first 100 units, the user will be charged Rs. 4.5 per unit, for the next 100 units, the user will be charged Rs. 6 per unit, and for the next 100 units, the user will be charged Rs. 10 per unit, After 300 units and above the user will be charged Rs. 20 per unit. You are required to take the units of electricity consumed in a month from the user as input. Your program must pass this test case: when the unit of electricity consumed by the user in a month is 310, the total electricity bill should be 2250."
   ]
  },
  {
   "cell_type": "code",
   "execution_count": 90,
   "id": "17f7fb12-fc1a-4f40-907b-ac03d7bbc683",
   "metadata": {},
   "outputs": [
    {
     "name": "stdin",
     "output_type": "stream",
     "text": [
      "enter the unit value 310\n"
     ]
    },
    {
     "name": "stdout",
     "output_type": "stream",
     "text": [
      "2250.0\n"
     ]
    }
   ],
   "source": [
    "#Ans:-\n",
    "\n",
    "#elecricity bil\n",
    "unit = int(input(\"enter the unit value\"))\n",
    "\n",
    "bill = 0.00\n",
    "\n",
    "if(unit <= 100):\n",
    "    bill = unit * 4.50\n",
    "    \n",
    "elif(unit > 100 and unit <= 200):\n",
    "    bill = 100*4.50 + (unit - 100)*6\n",
    "    \n",
    "elif(unit > 200 and unit <= 300):\n",
    "    bill = 100*4.50 + 100*6 + (unit - 200)*10\n",
    "    \n",
    "else:\n",
    "    bill = 100*4.50 + 100*6 + 100*10 + (unit - 300)*20\n",
    "\n",
    "print(bill)"
   ]
  },
  {
   "cell_type": "markdown",
   "id": "917f42a5-0e66-45e7-8f56-607ed75f3493",
   "metadata": {},
   "source": [
    "# Q4. Create a list of numbers from 1 to 100. Use for loop and while loop to calculate the cube of each number and if the cube of that number is divisible by 4 or 5 then append that number in a list and print that list."
   ]
  },
  {
   "cell_type": "code",
   "execution_count": 85,
   "id": "9d158851-d016-43c5-8cf4-7b1d04ce4772",
   "metadata": {},
   "outputs": [],
   "source": [
    "l = list(range(1,101))"
   ]
  },
  {
   "cell_type": "code",
   "execution_count": 86,
   "id": "a0d5869a-df69-4236-90b7-5ad6f2044ce1",
   "metadata": {},
   "outputs": [
    {
     "data": {
      "text/plain": [
       "list"
      ]
     },
     "execution_count": 86,
     "metadata": {},
     "output_type": "execute_result"
    }
   ],
   "source": [
    "type(l)"
   ]
  },
  {
   "cell_type": "code",
   "execution_count": 87,
   "id": "9ff44510-57f0-4333-a514-1cf05ba6b651",
   "metadata": {},
   "outputs": [
    {
     "name": "stdout",
     "output_type": "stream",
     "text": [
      "[2, 4, 5, 6, 8, 10, 12, 14, 15, 16, 18, 20, 22, 24, 25, 26, 28, 30, 32, 34, 35, 36, 38, 40, 42, 44, 45, 46, 48, 50, 52, 54, 55, 56, 58, 60, 62, 64, 65, 66, 68, 70, 72, 74, 75, 76, 78, 80, 82, 84, 85, 86, 88, 90, 92, 94, 95, 96, 98, 100]\n"
     ]
    }
   ],
   "source": [
    "l1 = [] #l1 is cube list\n",
    "for i in l:\n",
    "    cube = i ** 3 \n",
    "    if cube % 4 == 0 or cube % 5 == 0:\n",
    "        l1.append(i)\n",
    "print(l1)\n",
    "    "
   ]
  },
  {
   "cell_type": "code",
   "execution_count": 88,
   "id": "748ecc54-21c3-4d41-b613-1ef83307c58d",
   "metadata": {},
   "outputs": [
    {
     "name": "stdout",
     "output_type": "stream",
     "text": [
      "[2, 4, 5, 6, 8, 10, 12, 14, 15, 16, 18, 20, 22, 24, 25, 26, 28, 30, 32, 34, 35, 36, 38, 40, 42, 44, 45, 46, 48, 50, 52, 54, 55, 56, 58, 60, 62, 64, 65, 66, 68, 70, 72, 74, 75, 76, 78, 80, 82, 84, 85, 86, 88, 90, 92, 94, 95, 96, 98, 100]\n"
     ]
    }
   ],
   "source": [
    "l1 = [] #l1 is cube list\n",
    "i = 0\n",
    "while i < len(l) :\n",
    "    cube = l[i] ** 3\n",
    "    if cube % 4 == 0 or cube % 5 == 0:\n",
    "        l1.append(l[i])\n",
    "    i += 1\n",
    "    \n",
    "print(l1)"
   ]
  },
  {
   "cell_type": "markdown",
   "id": "decd153c-f254-4c16-97d8-60b83daa8ed5",
   "metadata": {},
   "source": [
    "# Q5. Write a program to filter count vowels in the below-given string. string = \"I want to become a data scientist\""
   ]
  },
  {
   "cell_type": "code",
   "execution_count": 89,
   "id": "517523c1-85c4-41d4-b44a-95d59c9a1b90",
   "metadata": {},
   "outputs": [
    {
     "name": "stdout",
     "output_type": "stream",
     "text": [
      "number of vowels: 12\n"
     ]
    }
   ],
   "source": [
    "string = \"I want to become a data scientist\"\n",
    "\n",
    "vowels = \"aeiouAEIOU\"\n",
    "\n",
    "count = 0\n",
    "\n",
    "for char_t in string :\n",
    "    if char_t in vowels :\n",
    "        count += 1\n",
    "        \n",
    "print(\"number of vowels:\" , count)"
   ]
  }
 ],
 "metadata": {
  "kernelspec": {
   "display_name": "Python 3 (ipykernel)",
   "language": "python",
   "name": "python3"
  },
  "language_info": {
   "codemirror_mode": {
    "name": "ipython",
    "version": 3
   },
   "file_extension": ".py",
   "mimetype": "text/x-python",
   "name": "python",
   "nbconvert_exporter": "python",
   "pygments_lexer": "ipython3",
   "version": "3.10.8"
  }
 },
 "nbformat": 4,
 "nbformat_minor": 5
}
