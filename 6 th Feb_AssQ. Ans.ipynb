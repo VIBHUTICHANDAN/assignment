{
 "cells": [
  {
   "cell_type": "markdown",
   "id": "44593731-de40-459b-8a2d-d02b0584fd3b",
   "metadata": {
    "tags": []
   },
   "source": [
    "### Q. Q1. Create a function which will take a list as an argument and return the product of all the numbers\n",
    "### after creating a flat list.\n",
    "### Use the below-given list as an argument for your function.\n",
    "### list1 = [1,2,3,4, [44,55,66, True], False, (34,56,78,89,34), {1,2,3,3,2,1}, {1:34, \"key2\": [55, 67, 78, 89], 4: (45,\n",
    "### 22, 61, 34)}, [56, 'data science'], 'Machine Learning']\n",
    "### Note: you must extract numeric keys and values of the dictionary also."
   ]
  },
  {
   "cell_type": "code",
   "execution_count": 1,
   "id": "106b2b67-3830-42dc-a409-dea193b83f74",
   "metadata": {},
   "outputs": [],
   "source": [
    "# Ans.:-\n",
    "list1 = [1,2,3,4, [44,55,66, True], False, (34,56,78,89,34), {1,2,3,3,2,1}, {1:34, \"key2\": [55, 67, 78, 89], 4: (45,\n",
    "22, 61, 34)}, [56, 'data science'], 'Machine Learning']\n",
    "\n",
    "\n",
    "def product_of_numbers(lst):\n",
    "    # create an empty list to store all the numeric values\n",
    "    numeric_values = []\n",
    "    \n",
    "    # loop through each element in the list and add numeric values to the numeric_values list\n",
    "    for element in lst:\n",
    "        if isinstance(element, (int, float)):\n",
    "            numeric_values.append(element)\n",
    "        elif isinstance(element, (list, tuple, set)):\n",
    "            for item in element:\n",
    "                if isinstance(item, (int, float)):\n",
    "                    numeric_values.append(item)\n",
    "        elif isinstance(element, dict):\n",
    "            for value in element.values():\n",
    "                if isinstance(value, (int, float)):\n",
    "                    numeric_values.append(value)\n",
    "                elif isinstance(value, (list, tuple, set)):\n",
    "                    for item in value:\n",
    "                        if isinstance(item, (int, float)):\n",
    "                            numeric_values.append(item)\n",
    "    \n",
    "    # calculate the product of all the numeric values in the numeric_values list\n",
    "    product = 1\n",
    "    for num in numeric_values:\n",
    "        product *= num\n",
    "    \n",
    "    return product\n"
   ]
  },
  {
   "cell_type": "code",
   "execution_count": 2,
   "id": "3ee915a6-4707-450f-80c2-db68acf66247",
   "metadata": {},
   "outputs": [
    {
     "name": "stdout",
     "output_type": "stream",
     "text": [
      "0\n"
     ]
    }
   ],
   "source": [
    "list1 = [1,2,3,4, [44,55,66, True], False, (34,56,78,89,34), {1,2,3,3,2,1}, {1:34, \"key2\": [55, 67, 78, 89], 4: (45, 22, 61, 34)}, [56, 'data science'], 'Machine Learning']\n",
    "result = product_of_numbers(list1)\n",
    "print(result)\n"
   ]
  },
  {
   "cell_type": "markdown",
   "id": "4c864401-72e4-402d-9647-ebba1bb33a7b",
   "metadata": {},
   "source": [
    "### Q2. Write a python program for encrypting a message sent to you by your friend. The logic of encryption\n",
    "### should be such that, for a the output should be z. For b, the output should be y. For c, the output should\n",
    "### be x respectively. Also, the whitespace should be replaced with a dollar sign. Keep the punctuation\n",
    "### marks unchanged.\n",
    "### Input Sentence: I want to become a Data Scientist.\n",
    "### Encrypt the above input sentence using the program you just created.\n",
    "### Note: Convert the given input sentence into lowercase before encrypting. The final output should be\n",
    "### lowercase."
   ]
  },
  {
   "cell_type": "code",
   "execution_count": 3,
   "id": "8083d186-503c-4d9f-b418-43f055f16e92",
   "metadata": {},
   "outputs": [],
   "source": [
    "# Ans.:-\n",
    "\n",
    "def encrypt(message):\n",
    "    # create a dictionary to map each letter to its encrypted version\n",
    "    mapping = {\n",
    "        'a': 'z', 'b': 'y', 'c': 'x', 'd': 'w', 'e': 'v', 'f': 'u', 'g': 't', 'h': 's', 'i': 'r', 'j': 'q',\n",
    "        'k': 'p', 'l': 'o', 'm': 'n', 'n': 'm', 'o': 'l', 'p': 'k', 'q': 'j', 'r': 'i', 's': 'h', 't': 'g',\n",
    "        'u': 'f', 'v': 'e', 'w': 'd', 'x': 'c', 'y': 'b', 'z': 'a'\n",
    "    }\n",
    "    \n",
    "    # replace whitespace with dollar sign\n",
    "    message = message.replace(' ', '$')\n",
    "    \n",
    "    # encrypt each letter in the message using the mapping dictionary\n",
    "    encrypted_message = ''\n",
    "    for letter in message.lower():\n",
    "        if letter.isalpha():\n",
    "            encrypted_message += mapping[letter]\n",
    "        else:\n",
    "            encrypted_message += letter\n",
    "    \n",
    "    return encrypted_message\n"
   ]
  },
  {
   "cell_type": "code",
   "execution_count": 4,
   "id": "32579679-25f0-4670-8ab7-f8218929d242",
   "metadata": {},
   "outputs": [
    {
     "name": "stdout",
     "output_type": "stream",
     "text": [
      "r$dzmg$gl$yvxlnv$z$wzgz$hxrvmgrhg.\n"
     ]
    }
   ],
   "source": [
    "message = \"I want to become a Data Scientist.\"\n",
    "encrypted_message = encrypt(message)\n",
    "print(encrypted_message)\n"
   ]
  },
  {
   "cell_type": "code",
   "execution_count": null,
   "id": "d0d7cd4d-e8c2-470e-bc08-2c46e0a04cb6",
   "metadata": {},
   "outputs": [],
   "source": []
  }
 ],
 "metadata": {
  "kernelspec": {
   "display_name": "Python 3 (ipykernel)",
   "language": "python",
   "name": "python3"
  },
  "language_info": {
   "codemirror_mode": {
    "name": "ipython",
    "version": 3
   },
   "file_extension": ".py",
   "mimetype": "text/x-python",
   "name": "python",
   "nbconvert_exporter": "python",
   "pygments_lexer": "ipython3",
   "version": "3.10.8"
  }
 },
 "nbformat": 4,
 "nbformat_minor": 5
}
