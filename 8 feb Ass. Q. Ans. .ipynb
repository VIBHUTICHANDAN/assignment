{
 "cells": [
  {
   "cell_type": "markdown",
   "id": "c4c8d81b-3c6b-42d6-9a01-12293ee77011",
   "metadata": {},
   "source": [
    "### Q1. What is Abstraction in OOps? Explain with an example."
   ]
  },
  {
   "cell_type": "markdown",
   "id": "83e183d7-5586-4f21-ba02-3027860b17a0",
   "metadata": {},
   "source": [
    "# Ans:-\n",
    "\n",
    " Abstraction\n",
    "This is the core concept of object-oriented programming that allows programmers to be abstract or pick out common features of the objects and procedures. In other words, abstraction means hiding internal details and showing functionality. The primary aim of programmers behind using abstraction is to handle complexity by hiding irrelevant details. It is an extension of encapsulation.\n",
    "\n",
    "For example, a customer may only use a few selections of tools like petrol, accelerator, clutch, brake, wheel and odometer of a motorcycle. Most of the engineering work remains inconsequential to the customer till it continues to function properly. To make a motorcycle run, a lot of pieces and parts work together. Letting the details and information get exposed to the customers can be a dangerous distraction. This is the concept of abstraction that is useful in many fields of engineering."
   ]
  },
  {
   "cell_type": "markdown",
   "id": "28ec702b-8fe6-44a4-900e-bcb2c8818069",
   "metadata": {},
   "source": [
    "### Q2. Differentiate between Abstraction and Encapsulation. Explain with an example."
   ]
  },
  {
   "cell_type": "markdown",
   "id": "c4942a55-a5f5-40a3-9789-d914b7623c11",
   "metadata": {},
   "source": [
    "# Ans:-\n",
    "\n",
    "Abstraction is the process of hiding complex implementation details and providing a simplified interface to the users. It allows us to focus on the essential features of an object, ignoring the unnecessary details. In other words, abstraction helps us to create a model or representation of a real-world object or system that captures only the important characteristics. It is achieved using abstract classes and interfaces.\n",
    "\n",
    "For example, consider a car. As a driver, we don't need to know how the engine works or how the transmission shifts gears. We only need to know how to operate the pedals, steering wheel, and gear shifter. The car provides us with a simplified interface that hides the complex implementation details.\n",
    "\n",
    "Encapsulation, on the other hand, is the process of binding data and the methods that operate on that data into a single unit called a class. It prevents the data from being accessed directly from outside the class and provides access through methods that enforce the class's behavior. Encapsulation helps in achieving data hiding, which is an important aspect of object-oriented programming.\n",
    "\n",
    "For example, consider a bank account. The account holder should be able to deposit and withdraw money from the account, but they should not be able to access the balance directly. The balance should be encapsulated within the account class and accessed only through methods like deposit() and withdraw()."
   ]
  },
  {
   "cell_type": "markdown",
   "id": "c52bc136-710a-4a5c-90fd-ec4ae4cda13f",
   "metadata": {},
   "source": [
    "### Q3. What is abc module in python? Why is it used?"
   ]
  },
  {
   "cell_type": "markdown",
   "id": "19356870-160c-43ce-80b0-45773f2b74ff",
   "metadata": {},
   "source": [
    "# Ans:-\n",
    "\n",
    " \n",
    "“An abstract method is a method defined inside an abstract class.”\n",
    "\n",
    "The definition may appear too simple, but the abstract method holds all the cards because it is necessary for all classes derived by the abstract class to have the same method even though their functionality and code may differ. However, the name of the method should be the same as the abstract method. The abstract method inside the abstract class could even be empty because we can not implement it anywhere. It is just so that all the other classes define a method by the same name.\n",
    "To increase efficiency thereby reducing complexity."
   ]
  },
  {
   "cell_type": "markdown",
   "id": "8495ccc9-f7be-45cb-bd3d-6a32259adf25",
   "metadata": {},
   "source": [
    "### Q4. How can we achieve data abstraction?"
   ]
  },
  {
   "cell_type": "markdown",
   "id": "30edaa86-e5c1-4e09-8957-194615f686b8",
   "metadata": {},
   "source": [
    "# Ans:-\n",
    "\n",
    "In Python, we can achieve data abstraction through the use of classes and objects. Abstraction is the process of hiding complex implementation details and providing a simplified interface to the users. The key to achieving data abstraction is to define classes that encapsulate the data and provide methods to operate on that data."
   ]
  },
  {
   "cell_type": "markdown",
   "id": "7ae69355-3112-4b02-a2d6-faba2a2c4c41",
   "metadata": {},
   "source": [
    "### Q5. Can we create an instance of an abstract class? Explain your answer."
   ]
  },
  {
   "cell_type": "markdown",
   "id": "a7b76d48-1746-4637-b8c2-dac6084909a3",
   "metadata": {},
   "source": [
    "# Ans:-\n",
    "\n",
    "No, we cannot create an instance of an abstract class in Python. An abstract class is a class that contains one or more abstract methods, which are methods that have no implementation. An abstract class is designed to be used as a base class, and its purpose is to define a common interface that other classes must implement."
   ]
  }
 ],
 "metadata": {
  "kernelspec": {
   "display_name": "Python 3 (ipykernel)",
   "language": "python",
   "name": "python3"
  },
  "language_info": {
   "codemirror_mode": {
    "name": "ipython",
    "version": 3
   },
   "file_extension": ".py",
   "mimetype": "text/x-python",
   "name": "python",
   "nbconvert_exporter": "python",
   "pygments_lexer": "ipython3",
   "version": "3.10.8"
  }
 },
 "nbformat": 4,
 "nbformat_minor": 5
}
