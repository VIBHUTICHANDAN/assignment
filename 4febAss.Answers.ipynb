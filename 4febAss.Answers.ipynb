{
 "cells": [
  {
   "cell_type": "markdown",
   "id": "6391e3ab-1997-4b32-bb0b-25b7b2987b79",
   "metadata": {
    "tags": []
   },
   "source": [
    "# Q1. Create a python program to sort the given list of tuples based on integer value using a lambda function.\n",
    "# [('Sachin Tendulkar', 34357), ('Ricky Ponting', 27483), ('Jack Kallis', 25534), ('Virat Kohli', 24936)]"
   ]
  },
  {
   "cell_type": "code",
   "execution_count": 13,
   "id": "e4ceb931-0c12-4044-93f5-e51dc9898e4f",
   "metadata": {},
   "outputs": [],
   "source": [
    "# Ans:-\n",
    "list_tuples = [('Sachin Tendulkar', 34357), ('Ricky Ponting', 27483), ('Jack Kallis', 25534), ('Virat Kohli', 24936)]"
   ]
  },
  {
   "cell_type": "code",
   "execution_count": 22,
   "id": "4ae42ee4-c955-4bf7-aa57-a06991536bd8",
   "metadata": {},
   "outputs": [],
   "source": [
    "list_tuples.sort(key = lambda x: x[1])"
   ]
  },
  {
   "cell_type": "code",
   "execution_count": 23,
   "id": "90fa50b8-cd7f-4f7b-b888-92a519b0f50b",
   "metadata": {},
   "outputs": [
    {
     "data": {
      "text/plain": [
       "[('Virat Kohli', 24936),\n",
       " ('Jack Kallis', 25534),\n",
       " ('Ricky Ponting', 27483),\n",
       " ('Sachin Tendulkar', 34357)]"
      ]
     },
     "execution_count": 23,
     "metadata": {},
     "output_type": "execute_result"
    }
   ],
   "source": [
    "list_tuples"
   ]
  },
  {
   "cell_type": "markdown",
   "id": "030c7d75-e66e-4913-bac8-877a31faf3d3",
   "metadata": {},
   "source": [
    "# Q2. Write a Python Program to find the squares of all the numbers in the given list of integers using lambda and map functions. \n",
    "# [1, 2, 3, 4, 5, 6, 7, 8, 9, 10]"
   ]
  },
  {
   "cell_type": "code",
   "execution_count": 24,
   "id": "e2a90929-19c1-442c-b859-821a41be5e1c",
   "metadata": {},
   "outputs": [],
   "source": [
    "# Ans:-\n",
    "# By lambda and map functions.\n",
    "list_integer = [1, 2, 3, 4, 5, 6, 7, 8, 9, 10]"
   ]
  },
  {
   "cell_type": "code",
   "execution_count": 25,
   "id": "43dd74b2-98ee-4dd8-a99c-60009926965e",
   "metadata": {},
   "outputs": [
    {
     "data": {
      "text/plain": [
       "[1, 4, 9, 16, 25, 36, 49, 64, 81, 100]"
      ]
     },
     "execution_count": 25,
     "metadata": {},
     "output_type": "execute_result"
    }
   ],
   "source": [
    "list(map(lambda x: x**2 , list_integer))"
   ]
  },
  {
   "cell_type": "markdown",
   "id": "185db854-a1ff-4a74-9d79-00845029589b",
   "metadata": {},
   "source": [
    "# Q3. Write a python program to convert the given list of integers into a tuple of strings. Use map and lambda functions\n",
    "# Given String: [1, 2, 3, 4, 5, 6, 7, 8, 9, 10]\n",
    "# Expected output: ('1', '2', '3', '4', '5', '6', '7', '8', '9', '10')"
   ]
  },
  {
   "cell_type": "code",
   "execution_count": 26,
   "id": "5ab43589-e970-4d3c-aca3-3989b12e7d2d",
   "metadata": {},
   "outputs": [],
   "source": [
    "# Ans:-\n",
    "Given_String = [1, 2, 3, 4, 5, 6, 7, 8, 9, 10]\n",
    "\n",
    "Expected_output = tuple(map(lambda x: str(x) , Given_String))"
   ]
  },
  {
   "cell_type": "code",
   "execution_count": 29,
   "id": "bc303b2e-5a1d-4603-8a19-177c57448544",
   "metadata": {},
   "outputs": [
    {
     "data": {
      "text/plain": [
       "('1', '2', '3', '4', '5', '6', '7', '8', '9', '10')"
      ]
     },
     "execution_count": 29,
     "metadata": {},
     "output_type": "execute_result"
    }
   ],
   "source": [
    "Expected_output"
   ]
  },
  {
   "cell_type": "markdown",
   "id": "daf0c4a0-c7f0-4c88-bfe8-479e88521c83",
   "metadata": {},
   "source": [
    "# Q4. Write a python program using reduce function to compute the product of a list containing numbers from 1 to 25."
   ]
  },
  {
   "cell_type": "code",
   "execution_count": 46,
   "id": "214c421d-4545-44d0-be29-0ddcf7e0d800",
   "metadata": {},
   "outputs": [],
   "source": [
    "# Ans:-\n",
    "list_no = list(range(1,26))"
   ]
  },
  {
   "cell_type": "code",
   "execution_count": 48,
   "id": "6468eed3-4429-4bd7-859a-bf89fb94e6ce",
   "metadata": {},
   "outputs": [],
   "source": [
    "from functools import reduce"
   ]
  },
  {
   "cell_type": "code",
   "execution_count": 49,
   "id": "7fa5bca3-784f-430a-908b-6066cae2ed34",
   "metadata": {},
   "outputs": [
    {
     "data": {
      "text/plain": [
       "15511210043330985984000000"
      ]
     },
     "execution_count": 49,
     "metadata": {},
     "output_type": "execute_result"
    }
   ],
   "source": [
    "reduce(lambda x , y : x * y , list_no)"
   ]
  },
  {
   "cell_type": "markdown",
   "id": "ed1c2bb3-93cb-4a93-a33d-7cb5c34644da",
   "metadata": {},
   "source": [
    "# Q5. Write a python program to filter the numbers in a given list that are divisible by 2 and 3 using the filter function.\n",
    "# [2, 3, 6, 9, 27, 60, 90, 120, 55, 46]"
   ]
  },
  {
   "cell_type": "code",
   "execution_count": 54,
   "id": "571e6e88-5208-42af-b21c-92ce83fd8f58",
   "metadata": {},
   "outputs": [
    {
     "data": {
      "text/plain": [
       "[6, 60, 90, 120]"
      ]
     },
     "execution_count": 54,
     "metadata": {},
     "output_type": "execute_result"
    }
   ],
   "source": [
    "# Ans:-\n",
    "list_no = [2, 3, 6, 9, 27, 60, 90, 120, 55, 46]\n",
    "\n",
    "list(filter(lambda x : x % 2 == 0 and x % 3 == 0 , list_no))\n"
   ]
  },
  {
   "cell_type": "markdown",
   "id": "dc30d739-a59e-4750-95d9-01290380d3e0",
   "metadata": {},
   "source": [
    "# Q6. Write a python program to find palindromes in the given list of strings using lambda and filter function.\n",
    "# ['python', 'php', 'aba', 'radar', 'level']"
   ]
  },
  {
   "cell_type": "code",
   "execution_count": 56,
   "id": "96535b27-ef4a-4861-bfa5-e1295efaa112",
   "metadata": {},
   "outputs": [
    {
     "data": {
      "text/plain": [
       "['php', 'aba', 'radar', 'level']"
      ]
     },
     "execution_count": 56,
     "metadata": {},
     "output_type": "execute_result"
    }
   ],
   "source": [
    "# Ans:-\n",
    "list_str = ['python', 'php', 'aba', 'radar', 'level']\n",
    "\n",
    "list(filter(lambda x : x == x[::-1] , list_str))"
   ]
  },
  {
   "cell_type": "code",
   "execution_count": null,
   "id": "e3c0dffb-ff94-413e-aa5a-d0deee4e622f",
   "metadata": {},
   "outputs": [],
   "source": []
  }
 ],
 "metadata": {
  "kernelspec": {
   "display_name": "Python 3 (ipykernel)",
   "language": "python",
   "name": "python3"
  },
  "language_info": {
   "codemirror_mode": {
    "name": "ipython",
    "version": 3
   },
   "file_extension": ".py",
   "mimetype": "text/x-python",
   "name": "python",
   "nbconvert_exporter": "python",
   "pygments_lexer": "ipython3",
   "version": "3.10.8"
  }
 },
 "nbformat": 4,
 "nbformat_minor": 5
}
