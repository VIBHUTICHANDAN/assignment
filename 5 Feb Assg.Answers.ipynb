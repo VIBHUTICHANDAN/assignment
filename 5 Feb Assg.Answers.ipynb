{
 "cells": [
  {
   "cell_type": "markdown",
   "id": "31339281-92ef-4a55-b1f1-0d1cc387d3f6",
   "metadata": {},
   "source": [
    "### Q1. Explain Class and Object with respect to Object-Oriented Programming. Give a suitable example."
   ]
  },
  {
   "cell_type": "markdown",
   "id": "002477cf-1511-406d-a10c-1fbda86aa2fd",
   "metadata": {},
   "source": [
    "Ans:-\n",
    "Class :-\n",
    "Classes are like templates that are used to create objects. It is like a Blueprint where the actual designing of an object takes place. The “Class” keyword is used to create the class. We can have multiple objects in a class. The class contains all the attributes of Object. For example, dairy milk is a subproduct of Cadbury here, dairy milk is like an object of class Cadbury. Cadbury company has all the ingredients, materials, etc., require to make dairy milk irrespective of the quantity.\n",
    "\n",
    "Object :-\n",
    "Objects are the instance of the class. Whatever we want to do, we do it with the help of objects. Objects have attributes and behavior. Let's take an example of a boy; here, height and weight are the attributes. Behavior means the way of talking, walking, etc., which are methods in the class. Objects contain methods which are function in simple words. Methods mean creating a function in class. \n",
    "\n"
   ]
  },
  {
   "cell_type": "markdown",
   "id": "4d97b9e8-01e2-4077-bb72-dc2a18d99563",
   "metadata": {},
   "source": [
    "### Q2. Name the four pillars of OOPs."
   ]
  },
  {
   "cell_type": "markdown",
   "id": "333fc278-9215-4384-9c4b-d4b29b72a9ba",
   "metadata": {},
   "source": [
    "### Ans:-\n",
    "The four pillars of OOPs are.\n",
    "(1) Inheritance.\n",
    "(2) Polymorphism.\n",
    "(3) Encapsulation.\n",
    "(4) Abstraction."
   ]
  },
  {
   "cell_type": "raw",
   "id": "ecdd49e9-90b9-4124-8f99-4435d7eadf88",
   "metadata": {
    "tags": []
   },
   "source": [
    "Q3. Explain why the __init__() function is used. Give a suitable example."
   ]
  },
  {
   "cell_type": "code",
   "execution_count": 6,
   "id": "32b1ef59-5e98-4f9c-ab33-a987d28669a6",
   "metadata": {},
   "outputs": [],
   "source": [
    "# Ans:-\n",
    "# the __init__() function is a special method that is called automatically when an object is created from a class. \n",
    "# It is used to initialize the attributes of the object or to perform any other necessary setup.\n",
    "\n",
    "# The __init__() method is useful because it allows us to ensure that objects are created with the necessary data or attributes. \n",
    "# This helps to avoid errors and makes the code more robust\n",
    "\n",
    "# ex:- \n",
    "\n",
    "class pwskills :\n",
    "    \n",
    "    def __init__(self , phone_number , email_id , student_id ):\n",
    "        self.phone_number = phone_number\n",
    "        self.email_id = email_id\n",
    "        self.student_id = student_id\n",
    "        \n",
    "    def retur_student_details(self):\n",
    "        return self.student_id , self.phone_number , self.email_id\n",
    "        \n",
    "        \n",
    "        "
   ]
  },
  {
   "cell_type": "code",
   "execution_count": 7,
   "id": "8b2f36f4-c113-4663-9dad-dbcfeb1a3d1c",
   "metadata": {},
   "outputs": [],
   "source": [
    "vibhuti = pwskills(9798567897 , \"vibhuti@gmail.com\", 151290)"
   ]
  },
  {
   "cell_type": "code",
   "execution_count": 8,
   "id": "b7ab65d7-ea7d-4cc8-a5aa-27b4f85ec73a",
   "metadata": {},
   "outputs": [
    {
     "data": {
      "text/plain": [
       "(151290, 9798567897, 'vibhuti@gmail.com')"
      ]
     },
     "execution_count": 8,
     "metadata": {},
     "output_type": "execute_result"
    }
   ],
   "source": [
    "vibhuti.retur_student_details()"
   ]
  },
  {
   "cell_type": "markdown",
   "id": "bcfb2286-45f3-4feb-af60-0f5c6f4b5eed",
   "metadata": {},
   "source": [
    "### Q4. Why self is used in OOPs?"
   ]
  },
  {
   "cell_type": "markdown",
   "id": "8fa3f149-7b46-4e0d-96aa-2a5006b38693",
   "metadata": {},
   "source": [
    "### Ans:-\n",
    "The self parameter is a reference to the current instance of the class, and is used to access variables that belongs to the class."
   ]
  },
  {
   "cell_type": "markdown",
   "id": "65305a84-bd9f-4f6d-a9fb-69d54f8f300b",
   "metadata": {},
   "source": [
    "### Q5. What is inheritance? Give an example for each type of inheritance."
   ]
  },
  {
   "cell_type": "markdown",
   "id": "0e67c54e-4330-4589-ad61-6276d8a2bdb8",
   "metadata": {},
   "source": [
    "# Ans:-\n",
    "Inheritance allows us to define a class that inherits all the methods and properties from another class.\n",
    "The parent class is the class being inherited from, also called the base class. \n",
    "The child class is the class that inherits from another class, also called the derived class."
   ]
  },
  {
   "cell_type": "code",
   "execution_count": 37,
   "id": "ec6af815-c9c9-4cef-93bc-597b3b37b218",
   "metadata": {},
   "outputs": [],
   "source": [
    "# Single inheritance: In single inheritance, a child class inherits properties and methods from a single parent class.\n",
    "# example"
   ]
  },
  {
   "cell_type": "code",
   "execution_count": 38,
   "id": "c5fbe09b-149d-4af4-afa5-85e1f6af3e08",
   "metadata": {},
   "outputs": [],
   "source": [
    "class test:\n",
    "    \n",
    "    def test_meth(self):\n",
    "        return \"this is my first class\""
   ]
  },
  {
   "cell_type": "code",
   "execution_count": 39,
   "id": "f7bc6d18-b306-4031-8624-ffef91f7fb4e",
   "metadata": {},
   "outputs": [],
   "source": [
    "class child_test(test):\n",
    "    pass"
   ]
  },
  {
   "cell_type": "code",
   "execution_count": 40,
   "id": "006f948c-fc9b-4234-a631-793c94b7e88a",
   "metadata": {},
   "outputs": [],
   "source": [
    "child_test_obj = child_test()"
   ]
  },
  {
   "cell_type": "code",
   "execution_count": 41,
   "id": "97a9765e-fc64-41ab-b4e7-a64b149fcf13",
   "metadata": {},
   "outputs": [
    {
     "data": {
      "text/plain": [
       "'this is my first class'"
      ]
     },
     "execution_count": 41,
     "metadata": {},
     "output_type": "execute_result"
    }
   ],
   "source": [
    "child_test_obj.test_meth()"
   ]
  },
  {
   "cell_type": "code",
   "execution_count": 42,
   "id": "daf4776c-d272-4ad3-859d-7359d1331162",
   "metadata": {},
   "outputs": [],
   "source": [
    "# Multilevel inheritance: In multilevel inheritance, a child class inherits from a parent class, which in turn inherits from another parent class.\n",
    "# example"
   ]
  },
  {
   "cell_type": "code",
   "execution_count": 43,
   "id": "d88bc03d-d4e3-4f8c-a727-f347727f4281",
   "metadata": {},
   "outputs": [],
   "source": [
    "class class1:\n",
    "    \n",
    "    def test_class1(self):\n",
    "        return \"this is a meth from class1\"\n",
    "    "
   ]
  },
  {
   "cell_type": "code",
   "execution_count": 44,
   "id": "53b87dbc-5df6-4c43-bba6-eba8ea0e6c70",
   "metadata": {},
   "outputs": [],
   "source": [
    "class class2(class1):\n",
    "    \n",
    "    def test_class2(self):\n",
    "        return \"this is a meth from class2\"\n",
    "    "
   ]
  },
  {
   "cell_type": "code",
   "execution_count": 45,
   "id": "b754382c-fad3-4fec-bd72-23857e4a9943",
   "metadata": {},
   "outputs": [],
   "source": [
    "class class3(class2):\n",
    "    \n",
    "    pass"
   ]
  },
  {
   "cell_type": "code",
   "execution_count": 46,
   "id": "0dcded64-2fe7-4ea9-b59f-02362c0a5a13",
   "metadata": {},
   "outputs": [],
   "source": [
    "obj_class3 = class3()"
   ]
  },
  {
   "cell_type": "code",
   "execution_count": 47,
   "id": "3e3a5d44-1f98-4601-b812-41426e81d068",
   "metadata": {},
   "outputs": [
    {
     "data": {
      "text/plain": [
       "'this is a meth from class2'"
      ]
     },
     "execution_count": 47,
     "metadata": {},
     "output_type": "execute_result"
    }
   ],
   "source": [
    "obj_class3.test_class2()"
   ]
  },
  {
   "cell_type": "code",
   "execution_count": 48,
   "id": "f45cef16-395e-4de1-9444-e7b512f7e717",
   "metadata": {},
   "outputs": [
    {
     "data": {
      "text/plain": [
       "'this is a meth from class1'"
      ]
     },
     "execution_count": 48,
     "metadata": {},
     "output_type": "execute_result"
    }
   ],
   "source": [
    "obj_class3.test_class1()"
   ]
  },
  {
   "cell_type": "code",
   "execution_count": 49,
   "id": "1c8354f9-6ef3-4054-94cb-6b604e082f09",
   "metadata": {},
   "outputs": [],
   "source": [
    "# Multiple inheritance: In multiple inheritance, a child class inherits properties and methods from multiple parent classes.\n",
    "# example"
   ]
  },
  {
   "cell_type": "code",
   "execution_count": 50,
   "id": "c2ad6f44-36a8-400a-9e3b-c3a4562d1889",
   "metadata": {},
   "outputs": [],
   "source": [
    "class class1:\n",
    "    \n",
    "    def test_class1(self):\n",
    "        return \"this is aclass1\""
   ]
  },
  {
   "cell_type": "code",
   "execution_count": 51,
   "id": "4123bed1-9089-493c-9fb9-a69221652c93",
   "metadata": {},
   "outputs": [],
   "source": [
    "class class2:\n",
    "    \n",
    "    def test_class2(self):\n",
    "        return \"this is class2\""
   ]
  },
  {
   "cell_type": "code",
   "execution_count": 52,
   "id": "2f874c46-f400-4f4c-8c15-588e5ebbfbeb",
   "metadata": {},
   "outputs": [],
   "source": [
    "class class3(class1 , class2):\n",
    "    pass"
   ]
  },
  {
   "cell_type": "code",
   "execution_count": 53,
   "id": "c77990d5-5c8e-4ab3-bbee-a0851d3404c8",
   "metadata": {},
   "outputs": [],
   "source": [
    "obj_class3 = class3()"
   ]
  },
  {
   "cell_type": "code",
   "execution_count": 54,
   "id": "8b0d54cb-1d35-41ad-aa1f-8abfde8fb638",
   "metadata": {},
   "outputs": [
    {
     "data": {
      "text/plain": [
       "'this is aclass1'"
      ]
     },
     "execution_count": 54,
     "metadata": {},
     "output_type": "execute_result"
    }
   ],
   "source": [
    "obj_class3.test_class1()"
   ]
  },
  {
   "cell_type": "code",
   "execution_count": 55,
   "id": "5b4368e7-4d16-4e49-bb0b-fa88d3e66577",
   "metadata": {},
   "outputs": [
    {
     "data": {
      "text/plain": [
       "'this is class2'"
      ]
     },
     "execution_count": 55,
     "metadata": {},
     "output_type": "execute_result"
    }
   ],
   "source": [
    "obj_class3.test_class2()"
   ]
  },
  {
   "cell_type": "code",
   "execution_count": null,
   "id": "733dd6d8-ec08-4576-8e2b-7aaf5ca221fe",
   "metadata": {},
   "outputs": [],
   "source": []
  }
 ],
 "metadata": {
  "kernelspec": {
   "display_name": "Python 3 (ipykernel)",
   "language": "python",
   "name": "python3"
  },
  "language_info": {
   "codemirror_mode": {
    "name": "ipython",
    "version": 3
   },
   "file_extension": ".py",
   "mimetype": "text/x-python",
   "name": "python",
   "nbconvert_exporter": "python",
   "pygments_lexer": "ipython3",
   "version": "3.10.8"
  }
 },
 "nbformat": 4,
 "nbformat_minor": 5
}
