{
 "cells": [
  {
   "cell_type": "markdown",
   "id": "966de595-45e4-4cbf-a0cb-c6120812e41a",
   "metadata": {},
   "source": [
    "### Q. 1. Who developed Python Programming Language? \n"
   ]
  },
  {
   "cell_type": "markdown",
   "id": "afeabd18-9345-4116-b3c5-b9cb9362763c",
   "metadata": {},
   "source": [
    "### Ans:-\n",
    "\n",
    "### Guido Van Rossum created the Python Programming language in February 1991."
   ]
  },
  {
   "cell_type": "markdown",
   "id": "8277c671-2147-4e47-9eea-53d9f5c5a396",
   "metadata": {},
   "source": [
    "### Q. 2. Which type of Programming does Python support? \n"
   ]
  },
  {
   "cell_type": "markdown",
   "id": "bc0e7a3e-15f9-4bb2-b8cc-85efa6094d51",
   "metadata": {},
   "source": [
    "### Ans:-\n",
    "### Python is an interpreted programming language, supporting object-oriented, structured, and functional programming.\n"
   ]
  },
  {
   "cell_type": "markdown",
   "id": "325b00e8-6448-4dce-b27f-9d37cf2c4b93",
   "metadata": {},
   "source": [
    "### Q. 3. Is Python case sensitive when dealing with identifiers? \n"
   ]
  },
  {
   "cell_type": "markdown",
   "id": "88f41426-0f32-435a-8287-d588305d3fdb",
   "metadata": {},
   "source": [
    "### Ans:-\n",
    "### Yes, Python is case sensitive when dealing with identifiers. This means that the names \"name\", \"Nam\", and “NAME\" are treated as three different identifiers by the Python interpreter. It is important to be consistent and follow a naming convention when defining your identifiers to make your code organized, readable, and maintainable.\n",
    "\n",
    "### In Python, variable names, function names, and keywords are case-sensitive. For example, the variable name \"myCar\" is different from \"mycar\" or \"myCaR\".This variable name is Identifiers.\n",
    "\n",
    "### Function names are also case sensitive, for example, \"print()\" and \"Print()\" are two different functions in python.\n",
    "### Python keywords like \"if\", \"else\" and \"while\" are case sensitive and should always be written in lowercase letters.\n",
    "### However, strings are case-insensitive in python by default but we can make it case-sensitive by using various string operations like lower() and upper() functions.\n",
    "### So we can say that yes python is case sensitive language while dealing with identifier.\n"
   ]
  },
  {
   "cell_type": "markdown",
   "id": "6ae98457-fbe4-4aa2-bba7-321312261055",
   "metadata": {},
   "source": [
    "### Q. 4. What is the correct extension of the Python file? \n"
   ]
  },
  {
   "cell_type": "markdown",
   "id": "fb2e628e-4701-4228-ab72-44e6ac79805d",
   "metadata": {},
   "source": [
    "### Ans:-\n",
    "###  The file extensions for Python are-\n",
    "\n",
    ".pyz\n",
    "\n",
    ".pyd\n",
    "\n",
    ".pyw\n",
    "\n",
    ".pyo\n",
    "\n",
    ".pyc\n",
    "\n",
    ".pyi\n",
    "\n",
    ".py"
   ]
  },
  {
   "cell_type": "markdown",
   "id": "196f9006-f4bd-4555-a6e2-84597596f286",
   "metadata": {},
   "source": [
    "### Q. 5. Is Python code compiled or interpreted? \n"
   ]
  },
  {
   "cell_type": "markdown",
   "id": "76b402e3-cab2-4a22-b8fb-0e58d61e43b7",
   "metadata": {},
   "source": [
    "### Ans.:-\n",
    "\n",
    "### Python is both compiled and  interpreted."
   ]
  },
  {
   "cell_type": "markdown",
   "id": "283ceea4-e18f-4cfe-a700-120ff841f39f",
   "metadata": {},
   "source": [
    "### Q. 6. Name a few blocks of code used to define in Python language?"
   ]
  },
  {
   "cell_type": "markdown",
   "id": "a1ca1a8d-607e-4aab-8ab1-5b68dffff732",
   "metadata": {},
   "source": [
    "### Ans.:- \n",
    "\n",
    "### The following are blocks: a module, a function body, and a class definition. Each command typed interactively is a block. A script file (a file given as standard input to the interpreter or specified as a command line argument to the interpreter) is a code block."
   ]
  },
  {
   "cell_type": "markdown",
   "id": "3528ccb7-956b-4394-b91b-75c9d014b8c6",
   "metadata": {},
   "source": [
    "### Q. 7. State a character used to give single-line comments in Python?"
   ]
  },
  {
   "cell_type": "markdown",
   "id": "5ee92c13-4ff0-4a39-982d-c9523a6ea000",
   "metadata": {},
   "source": [
    "### Ans.:-\n",
    "\n",
    "### Python offers a pretty simple and straightforward way to write a comment. We can write a single-line comment by adding a single hash # character before any statement or line of code."
   ]
  },
  {
   "cell_type": "code",
   "execution_count": null,
   "id": "a7f1c33a-f54f-4c96-b9f2-814a8519ff18",
   "metadata": {},
   "outputs": [],
   "source": []
  }
 ],
 "metadata": {
  "kernelspec": {
   "display_name": "Python 3 (ipykernel)",
   "language": "python",
   "name": "python3"
  },
  "language_info": {
   "codemirror_mode": {
    "name": "ipython",
    "version": 3
   },
   "file_extension": ".py",
   "mimetype": "text/x-python",
   "name": "python",
   "nbconvert_exporter": "python",
   "pygments_lexer": "ipython3",
   "version": "3.10.8"
  }
 },
 "nbformat": 4,
 "nbformat_minor": 5
}
