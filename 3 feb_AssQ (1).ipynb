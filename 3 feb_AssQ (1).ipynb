{
 "cells": [
  {
   "cell_type": "markdown",
   "id": "eac3b6f4-6dc3-456f-91a3-d1d4b23476f2",
   "metadata": {},
   "source": [
    "# Q1. Which keyword is used to create a function? Create a function to return a list of odd numbers in the range of 1 to 25."
   ]
  },
  {
   "cell_type": "markdown",
   "id": "13416191-cb47-4624-ae6f-58f7dbee27b3",
   "metadata": {},
   "source": [
    "# Ans:- def keyword is used to creat a function."
   ]
  },
  {
   "cell_type": "code",
   "execution_count": 7,
   "id": "5d49fa04-6840-4e08-902b-e9e0c3c62fbc",
   "metadata": {},
   "outputs": [],
   "source": [
    "def odd_no():\n",
    "    odd = []\n",
    "    for i in range(1,26,2):\n",
    "        odd.append(i)\n",
    "    return odd"
   ]
  },
  {
   "cell_type": "code",
   "execution_count": 8,
   "id": "2cc9f6ef-776f-4cca-8884-4bda0d90bc4f",
   "metadata": {},
   "outputs": [
    {
     "data": {
      "text/plain": [
       "[1, 3, 5, 7, 9, 11, 13, 15, 17, 19, 21, 23, 25]"
      ]
     },
     "execution_count": 8,
     "metadata": {},
     "output_type": "execute_result"
    }
   ],
   "source": [
    "odd_no()"
   ]
  },
  {
   "cell_type": "markdown",
   "id": "61690bef-4830-4d5c-a153-d44df11aa434",
   "metadata": {},
   "source": [
    "# Q2. Why *args and **kwargs is used in some functions? Create a function each for *args and **kwargs to demonstrate their use."
   ]
  },
  {
   "cell_type": "code",
   "execution_count": 1,
   "id": "c2adbbc5-094e-48d9-a3f9-c6f2b06c69c2",
   "metadata": {},
   "outputs": [],
   "source": [
    "# Ans:- *args and **kwargs is used to pass 'n' argument in a function where *args give data in tuple (args is not a key word)\n",
    "# and **kwargs give data in dictonary (key valu pair). "
   ]
  },
  {
   "cell_type": "code",
   "execution_count": 4,
   "id": "da0cee0a-af21-4d21-84a5-cf2b110fd437",
   "metadata": {},
   "outputs": [],
   "source": [
    "# *args function\n",
    "\n",
    "def tuple_f(*args):\n",
    "    return args\n"
   ]
  },
  {
   "cell_type": "code",
   "execution_count": 5,
   "id": "83ade923-be19-4cd2-bba7-8be0ba1632a8",
   "metadata": {},
   "outputs": [
    {
     "data": {
      "text/plain": [
       "(1, 2, 3, 4, [1, 2, 3, 4, 5, 6, 7, 8, 9], 'data', 'science', 'pwskills')"
      ]
     },
     "execution_count": 5,
     "metadata": {},
     "output_type": "execute_result"
    }
   ],
   "source": [
    "tuple_f(1,2,3,4,[1,2,3,4,5,6,7,8,9],\"data\",\"science\",\"pwskills\")"
   ]
  },
  {
   "cell_type": "code",
   "execution_count": 8,
   "id": "ae2e91e4-6fac-4eb0-8d96-a7ce25d86756",
   "metadata": {},
   "outputs": [
    {
     "data": {
      "text/plain": [
       "tuple"
      ]
     },
     "execution_count": 8,
     "metadata": {},
     "output_type": "execute_result"
    }
   ],
   "source": [
    "type(tuple_f())"
   ]
  },
  {
   "cell_type": "code",
   "execution_count": 6,
   "id": "0941880f-44c8-491c-97a2-93037fcf7073",
   "metadata": {},
   "outputs": [],
   "source": [
    "# **kwargs function\n",
    "\n",
    "def key_f(**kwargs):\n",
    "    return kwargs\n"
   ]
  },
  {
   "cell_type": "code",
   "execution_count": 7,
   "id": "ca8e6294-183b-45d6-a89e-8232196d732b",
   "metadata": {},
   "outputs": [
    {
     "data": {
      "text/plain": [
       "{'a': 23,\n",
       " 'b': 43,\n",
       " 'c': 96,\n",
       " 'd': 'data science',\n",
       " 'f': 'pwskills',\n",
       " 'g': [1, 2, 3, 4, 5, 6, 7, 8, 9]}"
      ]
     },
     "execution_count": 7,
     "metadata": {},
     "output_type": "execute_result"
    }
   ],
   "source": [
    "key_f(a = 23 , b = 43, c = 96 , d = \"data science\" , f = \"pwskills\" , g = [1,2,3,4,5,6,7,8,9])"
   ]
  },
  {
   "cell_type": "code",
   "execution_count": 9,
   "id": "13e460bd-67a6-422b-b1e3-df6e3f2a2c86",
   "metadata": {},
   "outputs": [
    {
     "data": {
      "text/plain": [
       "dict"
      ]
     },
     "execution_count": 9,
     "metadata": {},
     "output_type": "execute_result"
    }
   ],
   "source": [
    "type(key_f())"
   ]
  },
  {
   "cell_type": "markdown",
   "id": "e54caa8b-d9e5-45c4-bb99-8ca7defa4424",
   "metadata": {},
   "source": [
    "# Q3. What is an iterator in python? Name the method used to initialise the iterator object and the method used for iteration. Use these methods to print the first five elements of the given list [2, 4, 6, 8, 10, 12, 14, 16, 18, 20]."
   ]
  },
  {
   "cell_type": "code",
   "execution_count": 2,
   "id": "79c71f8e-5073-42fe-83cc-772bfb0cfd5f",
   "metadata": {},
   "outputs": [],
   "source": [
    "# Ans.:- An iterator in python is, this type of object/data where we can move next to next... in those iterable object. \n",
    "#iter() method is used to initialize the iterator object and next() method used for iteration. "
   ]
  },
  {
   "cell_type": "code",
   "execution_count": 8,
   "id": "71ffed91-9add-4b6f-a15f-268eeb131cd1",
   "metadata": {},
   "outputs": [
    {
     "name": "stdout",
     "output_type": "stream",
     "text": [
      "2\n",
      "4\n",
      "6\n",
      "8\n",
      "10\n"
     ]
    }
   ],
   "source": [
    "list_element = [2, 4, 6, 8, 10, 12, 14, 16, 18, 20]\n",
    "iter_list_element = iter(list_element)\n",
    "\n",
    "for i in range(5):\n",
    "    print(next(iter_list_element))"
   ]
  },
  {
   "cell_type": "markdown",
   "id": "af5138a5-5a2d-4554-b44c-5ec71ddd38ab",
   "metadata": {},
   "source": [
    "# Q4. What is a generator function in python? Why yield keyword is used? Give an example of a generator function."
   ]
  },
  {
   "cell_type": "code",
   "execution_count": 5,
   "id": "f6de29ec-6afb-4366-a7ce-d9f21f4a1ad6",
   "metadata": {},
   "outputs": [
    {
     "name": "stdout",
     "output_type": "stream",
     "text": [
      "0\n",
      "1\n",
      "1\n",
      "2\n",
      "3\n",
      "5\n",
      "8\n",
      "13\n",
      "21\n",
      "34\n"
     ]
    }
   ],
   "source": [
    "# Ans.:- A generator function in Python is a special kind of function that returns an iterator. \n",
    "# Unlike regular functions that return a value and then terminate, \n",
    "# generator functions generate a sequence of values on the fly and pause their execution after each value using the yield keyword.\n",
    "# This allows the function to resume where it left off the next time it is called, rather than starting over from the beginning.\n",
    "\n",
    "# The yield keyword is used to produce a value from the generator function and pause its execution,\n",
    "# saving its state for later resumption. When the function is called again, it continues from where it left off and\n",
    "# generates the next value in the sequence, repeating the process until there are no more values to generate.\n",
    "\n",
    "# Here is an example of a generator function that generates the first n Fibonacci numbers:\n",
    "\n",
    "\n",
    "def test_fib(n):\n",
    "    a,b = 0,1\n",
    "    for i in range(n):\n",
    "        yield a\n",
    "        a,b = b, a+b\n",
    "        \n",
    "for i in test_fib(10):\n",
    "    print(i)"
   ]
  },
  {
   "cell_type": "markdown",
   "id": "516d9711-63bd-4476-b4c0-19037c0dc9f2",
   "metadata": {},
   "source": [
    "# Q5. Create a generator function for prime numbers less than 1000. Use the next() method to print the first 20 prime numbers."
   ]
  },
  {
   "cell_type": "code",
   "execution_count": 4,
   "id": "c6e5864b-de48-4acc-9000-ef7585d7746a",
   "metadata": {},
   "outputs": [],
   "source": [
    "def prime_numbers():\n",
    "    \n",
    "    primes = []\n",
    "    for num in range(2, 1000):\n",
    "        is_prime = True\n",
    "        for prime in primes:\n",
    "            if num % prime == 0:\n",
    "                is_prime = False\n",
    "                break\n",
    "                \n",
    "        if is_prime:\n",
    "            primes.append(num)\n",
    "            yield num\n"
   ]
  },
  {
   "cell_type": "code",
   "execution_count": 5,
   "id": "0337867f-3f4a-4ac4-956c-4f4a0896d5b7",
   "metadata": {},
   "outputs": [
    {
     "name": "stdout",
     "output_type": "stream",
     "text": [
      "2\n",
      "3\n",
      "5\n",
      "7\n",
      "11\n",
      "13\n",
      "17\n",
      "19\n",
      "23\n",
      "29\n",
      "31\n",
      "37\n",
      "41\n",
      "43\n",
      "47\n",
      "53\n",
      "59\n",
      "61\n",
      "67\n",
      "71\n"
     ]
    }
   ],
   "source": [
    "prime_gen = prime_numbers()\n",
    "for i in range(20):\n",
    "    print(next(prime_gen))\n"
   ]
  },
  {
   "cell_type": "markdown",
   "id": "8717b70f-faff-47c7-bbf4-89eafe989aff",
   "metadata": {},
   "source": [
    "# Q6. Write a python program to print the first 10 Fibonacci numbers using a while loop."
   ]
  },
  {
   "cell_type": "code",
   "execution_count": 6,
   "id": "988f2e5a-1f57-42d6-886b-45a02b04c86a",
   "metadata": {},
   "outputs": [
    {
     "name": "stdin",
     "output_type": "stream",
     "text": [
      "enter the number of element you are looking for 10\n"
     ]
    },
    {
     "name": "stdout",
     "output_type": "stream",
     "text": [
      "0\n",
      "1\n",
      "1\n",
      "2\n",
      "3\n",
      "5\n",
      "8\n",
      "13\n",
      "21\n",
      "34\n"
     ]
    }
   ],
   "source": [
    "number = int(input(\"enter the number of element you are looking for\"))\n",
    "a,b = 0,1\n",
    "counter = 0\n",
    "while counter < number:\n",
    "    print(a)\n",
    "    c = a+b\n",
    "    a = b\n",
    "    b = c\n",
    "    counter = counter + 1"
   ]
  },
  {
   "cell_type": "markdown",
   "id": "548a11a4-a263-4d6e-a56c-c705525fb9a1",
   "metadata": {},
   "source": [
    "# Q7. Write a List Comprehension to iterate through the given string: ‘pwskills’. Expected output: ['p', 'w', 's', 'k', 'i', 'l', 'l', 's']"
   ]
  },
  {
   "cell_type": "code",
   "execution_count": 7,
   "id": "56ab9b9a-3f0b-4662-a41e-bc6f36c731b1",
   "metadata": {},
   "outputs": [],
   "source": [
    "# Ans.:-\n",
    "string = 'pwskills'"
   ]
  },
  {
   "cell_type": "code",
   "execution_count": 8,
   "id": "2f016f78-9e62-46f5-a220-321416c30d21",
   "metadata": {},
   "outputs": [
    {
     "data": {
      "text/plain": [
       "['P', 'W', 'S', 'K', 'I', 'L', 'L', 'S']"
      ]
     },
     "execution_count": 8,
     "metadata": {},
     "output_type": "execute_result"
    }
   ],
   "source": [
    "[i.upper() for i in string]"
   ]
  },
  {
   "cell_type": "markdown",
   "id": "b1b2ef84-4e0e-4389-92cc-a37b94744147",
   "metadata": {},
   "source": [
    "# Q8. Write a python program to check whether a given number is Palindrome or not using a while loop."
   ]
  },
  {
   "cell_type": "code",
   "execution_count": 10,
   "id": "84cf65ca-d16e-4a31-a9c1-452386a8ca1c",
   "metadata": {},
   "outputs": [
    {
     "name": "stdin",
     "output_type": "stream",
     "text": [
      "enter your number 123\n"
     ]
    },
    {
     "name": "stdout",
     "output_type": "stream",
     "text": [
      "Number is not palindrom.\n"
     ]
    }
   ],
   "source": [
    "# Ans.:-\n",
    "number = int(input(\"enter your number\"))\n",
    "temp = number\n",
    "reverse = 0\n",
    "\n",
    "while(number > 0):\n",
    "    \n",
    "    dig = number % 10\n",
    "    reverse = reverse * 10 + dig\n",
    "    number = number // 10\n",
    "    \n",
    "if temp == reverse:\n",
    "    print(\"Number is a palindrom.\")\n",
    "else:\n",
    "    print(\"Number is not palindrom.\")\n",
    "    "
   ]
  },
  {
   "cell_type": "markdown",
   "id": "0d1f6f19-13f7-4e5d-9c90-2ebbc2555890",
   "metadata": {},
   "source": [
    "# Q9. Write a code to print odd numbers from 1 to 100 using list comprehension. Note: Use a list comprehension to create a list from 1 to 100 and use another List comprehension to filter out odd numbers."
   ]
  },
  {
   "cell_type": "code",
   "execution_count": 13,
   "id": "35cdb6ee-1211-46c9-b8fc-8a7e827da28d",
   "metadata": {},
   "outputs": [],
   "source": [
    "# Ans:-\n",
    "list_my = [i for i in range(1,101)]"
   ]
  },
  {
   "cell_type": "code",
   "execution_count": 14,
   "id": "23926fb6-a88b-4821-891b-d3e8885c9e33",
   "metadata": {},
   "outputs": [
    {
     "data": {
      "text/plain": [
       "[1,\n",
       " 2,\n",
       " 3,\n",
       " 4,\n",
       " 5,\n",
       " 6,\n",
       " 7,\n",
       " 8,\n",
       " 9,\n",
       " 10,\n",
       " 11,\n",
       " 12,\n",
       " 13,\n",
       " 14,\n",
       " 15,\n",
       " 16,\n",
       " 17,\n",
       " 18,\n",
       " 19,\n",
       " 20,\n",
       " 21,\n",
       " 22,\n",
       " 23,\n",
       " 24,\n",
       " 25,\n",
       " 26,\n",
       " 27,\n",
       " 28,\n",
       " 29,\n",
       " 30,\n",
       " 31,\n",
       " 32,\n",
       " 33,\n",
       " 34,\n",
       " 35,\n",
       " 36,\n",
       " 37,\n",
       " 38,\n",
       " 39,\n",
       " 40,\n",
       " 41,\n",
       " 42,\n",
       " 43,\n",
       " 44,\n",
       " 45,\n",
       " 46,\n",
       " 47,\n",
       " 48,\n",
       " 49,\n",
       " 50,\n",
       " 51,\n",
       " 52,\n",
       " 53,\n",
       " 54,\n",
       " 55,\n",
       " 56,\n",
       " 57,\n",
       " 58,\n",
       " 59,\n",
       " 60,\n",
       " 61,\n",
       " 62,\n",
       " 63,\n",
       " 64,\n",
       " 65,\n",
       " 66,\n",
       " 67,\n",
       " 68,\n",
       " 69,\n",
       " 70,\n",
       " 71,\n",
       " 72,\n",
       " 73,\n",
       " 74,\n",
       " 75,\n",
       " 76,\n",
       " 77,\n",
       " 78,\n",
       " 79,\n",
       " 80,\n",
       " 81,\n",
       " 82,\n",
       " 83,\n",
       " 84,\n",
       " 85,\n",
       " 86,\n",
       " 87,\n",
       " 88,\n",
       " 89,\n",
       " 90,\n",
       " 91,\n",
       " 92,\n",
       " 93,\n",
       " 94,\n",
       " 95,\n",
       " 96,\n",
       " 97,\n",
       " 98,\n",
       " 99,\n",
       " 100]"
      ]
     },
     "execution_count": 14,
     "metadata": {},
     "output_type": "execute_result"
    }
   ],
   "source": [
    "list_my"
   ]
  },
  {
   "cell_type": "code",
   "execution_count": 15,
   "id": "c3c340b3-108d-4a2f-8051-21d83561d6e9",
   "metadata": {},
   "outputs": [
    {
     "data": {
      "text/plain": [
       "[2,\n",
       " 4,\n",
       " 6,\n",
       " 8,\n",
       " 10,\n",
       " 12,\n",
       " 14,\n",
       " 16,\n",
       " 18,\n",
       " 20,\n",
       " 22,\n",
       " 24,\n",
       " 26,\n",
       " 28,\n",
       " 30,\n",
       " 32,\n",
       " 34,\n",
       " 36,\n",
       " 38,\n",
       " 40,\n",
       " 42,\n",
       " 44,\n",
       " 46,\n",
       " 48,\n",
       " 50,\n",
       " 52,\n",
       " 54,\n",
       " 56,\n",
       " 58,\n",
       " 60,\n",
       " 62,\n",
       " 64,\n",
       " 66,\n",
       " 68,\n",
       " 70,\n",
       " 72,\n",
       " 74,\n",
       " 76,\n",
       " 78,\n",
       " 80,\n",
       " 82,\n",
       " 84,\n",
       " 86,\n",
       " 88,\n",
       " 90,\n",
       " 92,\n",
       " 94,\n",
       " 96,\n",
       " 98,\n",
       " 100]"
      ]
     },
     "execution_count": 15,
     "metadata": {},
     "output_type": "execute_result"
    }
   ],
   "source": [
    "[i for i in list_my if i % 2 == 0 ]"
   ]
  },
  {
   "cell_type": "code",
   "execution_count": null,
   "id": "3a9a073c-e97c-4596-8728-dc44d08ecfe1",
   "metadata": {},
   "outputs": [],
   "source": []
  }
 ],
 "metadata": {
  "kernelspec": {
   "display_name": "Python 3 (ipykernel)",
   "language": "python",
   "name": "python3"
  },
  "language_info": {
   "codemirror_mode": {
    "name": "ipython",
    "version": 3
   },
   "file_extension": ".py",
   "mimetype": "text/x-python",
   "name": "python",
   "nbconvert_exporter": "python",
   "pygments_lexer": "ipython3",
   "version": "3.10.8"
  }
 },
 "nbformat": 4,
 "nbformat_minor": 5
}
